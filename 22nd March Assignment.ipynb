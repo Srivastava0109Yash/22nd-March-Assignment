{
 "cells": [
  {
   "cell_type": "markdown",
   "id": "71d59b30",
   "metadata": {},
   "source": [
    "### Q1. Pearson correlation coefficient is a measure of the linear relationship between two variables. Suppose you have collected data on the amount of time students spend studying for an exam and their final exam scores. Calculate the Pearson correlation coefficient between these two variables and interpret the result."
   ]
  },
  {
   "cell_type": "code",
   "execution_count": 1,
   "id": "6787b34b",
   "metadata": {},
   "outputs": [
    {
     "data": {
      "text/html": [
       "<div>\n",
       "<style scoped>\n",
       "    .dataframe tbody tr th:only-of-type {\n",
       "        vertical-align: middle;\n",
       "    }\n",
       "\n",
       "    .dataframe tbody tr th {\n",
       "        vertical-align: top;\n",
       "    }\n",
       "\n",
       "    .dataframe thead th {\n",
       "        text-align: right;\n",
       "    }\n",
       "</style>\n",
       "<table border=\"1\" class=\"dataframe\">\n",
       "  <thead>\n",
       "    <tr style=\"text-align: right;\">\n",
       "      <th></th>\n",
       "      <th>study_time</th>\n",
       "      <th>exam_scores</th>\n",
       "    </tr>\n",
       "  </thead>\n",
       "  <tbody>\n",
       "    <tr>\n",
       "      <th>study_time</th>\n",
       "      <td>1.000000</td>\n",
       "      <td>0.981316</td>\n",
       "    </tr>\n",
       "    <tr>\n",
       "      <th>exam_scores</th>\n",
       "      <td>0.981316</td>\n",
       "      <td>1.000000</td>\n",
       "    </tr>\n",
       "  </tbody>\n",
       "</table>\n",
       "</div>"
      ],
      "text/plain": [
       "             study_time  exam_scores\n",
       "study_time     1.000000     0.981316\n",
       "exam_scores    0.981316     1.000000"
      ]
     },
     "execution_count": 1,
     "metadata": {},
     "output_type": "execute_result"
    }
   ],
   "source": [
    "import pandas as pd\n",
    "\n",
    "df=pd.DataFrame({\n",
    "    'study_time' : [10, 5, 8, 7, 6, 4, 9, 2, 3, 1],\n",
    "'exam_scores' : [80, 65, 72, 68, 70, 60, 75, 50, 55, 45]\n",
    "})\n",
    "\n",
    "df.corr(method='pearson')"
   ]
  },
  {
   "cell_type": "code",
   "execution_count": 4,
   "id": "d4ca20fb",
   "metadata": {},
   "outputs": [
    {
     "data": {
      "text/plain": [
       "0.9813163270390649"
      ]
     },
     "execution_count": 4,
     "metadata": {},
     "output_type": "execute_result"
    }
   ],
   "source": [
    "# correlation coefficient\n",
    "df.corr().iloc[0, 1]"
   ]
  },
  {
   "cell_type": "markdown",
   "id": "73c5ec39",
   "metadata": {},
   "source": [
    "The Pearson correlation coefficient is 0.98, which indicates a strong positive linear relationship between the two variables. This means that as the amount of time spent studying increases, the exam scores tend to increase as well. "
   ]
  },
  {
   "cell_type": "code",
   "execution_count": null,
   "id": "091205ec",
   "metadata": {},
   "outputs": [],
   "source": []
  },
  {
   "cell_type": "markdown",
   "id": "f98b357b",
   "metadata": {},
   "source": [
    "### Q2. Spearman's rank correlation is a measure of the monotonic relationship between two variables. Suppose you have collected data on the amount of sleep individuals get each night and their overall job satisfaction level on a scale of 1 to 10. Calculate the Spearman's rank correlation between these two variables and interpret the result."
   ]
  },
  {
   "cell_type": "code",
   "execution_count": 7,
   "id": "6dee4d83",
   "metadata": {},
   "outputs": [
    {
     "data": {
      "text/html": [
       "<div>\n",
       "<style scoped>\n",
       "    .dataframe tbody tr th:only-of-type {\n",
       "        vertical-align: middle;\n",
       "    }\n",
       "\n",
       "    .dataframe tbody tr th {\n",
       "        vertical-align: top;\n",
       "    }\n",
       "\n",
       "    .dataframe thead th {\n",
       "        text-align: right;\n",
       "    }\n",
       "</style>\n",
       "<table border=\"1\" class=\"dataframe\">\n",
       "  <thead>\n",
       "    <tr style=\"text-align: right;\">\n",
       "      <th></th>\n",
       "      <th>sleep_time</th>\n",
       "      <th>job_satisfaction</th>\n",
       "    </tr>\n",
       "  </thead>\n",
       "  <tbody>\n",
       "    <tr>\n",
       "      <th>sleep_time</th>\n",
       "      <td>1.0</td>\n",
       "      <td>1.0</td>\n",
       "    </tr>\n",
       "    <tr>\n",
       "      <th>job_satisfaction</th>\n",
       "      <td>1.0</td>\n",
       "      <td>1.0</td>\n",
       "    </tr>\n",
       "  </tbody>\n",
       "</table>\n",
       "</div>"
      ],
      "text/plain": [
       "                  sleep_time  job_satisfaction\n",
       "sleep_time               1.0               1.0\n",
       "job_satisfaction         1.0               1.0"
      ]
     },
     "execution_count": 7,
     "metadata": {},
     "output_type": "execute_result"
    }
   ],
   "source": [
    "df=pd.DataFrame({\n",
    "    'sleep_time' : [8, 6, 7, 5, 9, 6, 8, 7, 7, 6],\n",
    "'job_satisfaction' : [7, 5, 6, 4, 8, 5, 7, 6, 6, 5]\n",
    "})\n",
    "\n",
    "df.corr(method='spearman')"
   ]
  },
  {
   "cell_type": "code",
   "execution_count": 8,
   "id": "2498d792",
   "metadata": {},
   "outputs": [
    {
     "name": "stdout",
     "output_type": "stream",
     "text": [
      "Spearman's rank correlation coefficient: 1.0\n",
      "p-value: 0.0\n"
     ]
    }
   ],
   "source": [
    "from scipy.stats import spearmanr\n",
    "\n",
    "# example data\n",
    "sleep_time = [8, 6, 7, 5, 9, 6, 8, 7, 7, 6]\n",
    "job_satisfaction = [7, 5, 6, 4, 8, 5, 7, 6, 6, 5]\n",
    "\n",
    "# calculate Spearman's rank correlation coefficient and p-value\n",
    "corr, p_value = spearmanr(sleep_time, job_satisfaction)\n",
    "\n",
    "# print the result\n",
    "print(\"Spearman's rank correlation coefficient:\", corr)\n",
    "print(\"p-value:\", p_value)\n"
   ]
  },
  {
   "cell_type": "markdown",
   "id": "480b1872",
   "metadata": {},
   "source": [
    "The Spearman's rank correlation coefficient is 1.00 which indicates a strong monotonic relationship between the two variables. This means that as the amount of sleep individuals get each night increases, their overall job satisfaction tends to increase as well."
   ]
  },
  {
   "cell_type": "code",
   "execution_count": null,
   "id": "9ae061a6",
   "metadata": {},
   "outputs": [],
   "source": []
  },
  {
   "cell_type": "markdown",
   "id": "3b90c103",
   "metadata": {},
   "source": [
    "### Q3. Suppose you are conducting a study to examine the relationship between the number of hours of exercise per week and body mass index (BMI) in a sample of adults. You collected data on both variables for 50 participants. Calculate the Pearson correlation coefficient and the Spearman's rank correlation between these two variables and compare the results."
   ]
  },
  {
   "cell_type": "code",
   "execution_count": 12,
   "id": "8e3d7f51",
   "metadata": {},
   "outputs": [],
   "source": [
    "df=pd.DataFrame({\n",
    "'exercise_hours' : [2.5, 3.0, 1.0, 2.0, 1.5, 4.0, 3.5, 2.0, 1.5, 2.5, \n",
    "                  2.0, 3.5, 2.5, 3.0, 1.5, 4.0, 2.5, 3.0, 1.0, 2.0, \n",
    "                  3.5, 2.0, 1.5, 3.0, 2.5, 2.0, 2.5, 1.0, 1.5, 3.0, \n",
    "                  2.0, 2.5, 3.0, 2.0, 1.5, 3.5, 1.0, 2.5, 3.0, 2.5, \n",
    "                  1.5, 3.5, 2.0, 2.5, 3.0, 1.5, 2.0, 3.5, 2.5, 2.0],\n",
    "    \n",
    "'bmi' : [25.1, 28.3, 32.4, 29.8, 31.7, 22.9, 26.5, 30.3, 29.5, 25.7, \n",
    "       28.8, 24.9, 25.4, 26.1, 31.2, 23.4, 25.8, 25.1, 31.9, 28.6, \n",
    "       25.5, 30.7, 30.8, 26.9, 27.5, 28.8, 25.6, 33.2, 29.5, 26.3, \n",
    "       31.9, 26.2, 27.1, 26.3, 30.7, 30.8, 24.9, 32.1, 25.8, 26.4, \n",
    "       31.4, 23.8, 29.6, 28.7, 26.5, 26.7, 31.6, 29.1, 27.9, 32.3]\n",
    "})\n"
   ]
  },
  {
   "cell_type": "code",
   "execution_count": 13,
   "id": "0034cb5e",
   "metadata": {},
   "outputs": [
    {
     "data": {
      "text/html": [
       "<div>\n",
       "<style scoped>\n",
       "    .dataframe tbody tr th:only-of-type {\n",
       "        vertical-align: middle;\n",
       "    }\n",
       "\n",
       "    .dataframe tbody tr th {\n",
       "        vertical-align: top;\n",
       "    }\n",
       "\n",
       "    .dataframe thead th {\n",
       "        text-align: right;\n",
       "    }\n",
       "</style>\n",
       "<table border=\"1\" class=\"dataframe\">\n",
       "  <thead>\n",
       "    <tr style=\"text-align: right;\">\n",
       "      <th></th>\n",
       "      <th>exercise_hours</th>\n",
       "      <th>bmi</th>\n",
       "    </tr>\n",
       "  </thead>\n",
       "  <tbody>\n",
       "    <tr>\n",
       "      <th>exercise_hours</th>\n",
       "      <td>1.000000</td>\n",
       "      <td>-0.655075</td>\n",
       "    </tr>\n",
       "    <tr>\n",
       "      <th>bmi</th>\n",
       "      <td>-0.655075</td>\n",
       "      <td>1.000000</td>\n",
       "    </tr>\n",
       "  </tbody>\n",
       "</table>\n",
       "</div>"
      ],
      "text/plain": [
       "                exercise_hours       bmi\n",
       "exercise_hours        1.000000 -0.655075\n",
       "bmi                  -0.655075  1.000000"
      ]
     },
     "execution_count": 13,
     "metadata": {},
     "output_type": "execute_result"
    }
   ],
   "source": [
    "# Pearson correlation coefficient\n",
    "df.corr(method='pearson')"
   ]
  },
  {
   "cell_type": "code",
   "execution_count": 16,
   "id": "994e8fca",
   "metadata": {},
   "outputs": [
    {
     "name": "stdout",
     "output_type": "stream",
     "text": [
      "Pearson correlation coefficient: -0.6550752568429092\n"
     ]
    }
   ],
   "source": [
    "print(\"Pearson correlation coefficient:\",df.corr(method='pearson').iloc[0,1])"
   ]
  },
  {
   "cell_type": "code",
   "execution_count": null,
   "id": "8eec5647",
   "metadata": {},
   "outputs": [],
   "source": [
    "# Spearman correlation coefficient\n",
    "df.corr(method='pearson')"
   ]
  },
  {
   "cell_type": "code",
   "execution_count": 17,
   "id": "473776e7",
   "metadata": {},
   "outputs": [
    {
     "name": "stdout",
     "output_type": "stream",
     "text": [
      "Spearman correlation coefficient: -0.6323671411887234\n"
     ]
    }
   ],
   "source": [
    "print(\"Spearman correlation coefficient:\",df.corr(method='spearman').iloc[0,1])"
   ]
  },
  {
   "cell_type": "markdown",
   "id": "7d539c06",
   "metadata": {},
   "source": [
    "- The Pearson correlation coefficient measures the strength and direction of a linear relationship between two variables. In this case, the Pearson correlation coefficient is -0.6550752568429092, indicating a weak, positive linear relationship between the number of hours of exercise per week and BMI. This means that as the number of hours of exercise per week increases, BMI also tends to increase slightly, but the relationship is not strong.\n",
    "\n",
    "- the Spearman's rank correlation coefficient measures the strength and direction of a monotonic relationship between two variables, which means it measures how much one variable changes as the other variable changes, without assuming a specific functional form of the relationship. In this case, the Spearman's rank correlation coefficient is -0.6323671411887234, indicating a weak, positive monotonic relationship between the number of hours of exercise per week and BMI. This means that as the number of hours of exercise per week increases, BMI tends to increase slightly, but again, the relationship is not strong."
   ]
  },
  {
   "cell_type": "code",
   "execution_count": null,
   "id": "9ce2f139",
   "metadata": {},
   "outputs": [],
   "source": []
  },
  {
   "cell_type": "markdown",
   "id": "ee7f4d0f",
   "metadata": {},
   "source": [
    "### Q4. A researcher is interested in examining the relationship between the number of hours individuals spend watching television per day and their level of physical activity. The researcher collected data on both variables from a sample of 50 participants. Calculate the Pearson correlation coefficient between these two variables."
   ]
  },
  {
   "cell_type": "code",
   "execution_count": 27,
   "id": "dc2b74a1",
   "metadata": {},
   "outputs": [
    {
     "name": "stdout",
     "output_type": "stream",
     "text": [
      "Pearson correlation coefficient: 0.11007178534016061\n"
     ]
    }
   ],
   "source": [
    "import pandas as pd\n",
    "import numpy as np\n",
    "\n",
    "# Generate sample data for TV hours and physical activity\n",
    "np.random.seed(42)\n",
    "tv_hours = np.random.normal(3, 1, 50)\n",
    "physical_activity = np.random.normal(5, 2, 50)\n",
    "\n",
    "# Create a pandas DataFrame from the two arrays\n",
    "df = pd.DataFrame({'TV Hours': tv_hours, 'Physical Activity': physical_activity})\n",
    "\n",
    "a=df.corr(method='pearson').iloc[0,1]\n",
    "\n",
    "print(\"Pearson correlation coefficient:\",a)"
   ]
  },
  {
   "cell_type": "code",
   "execution_count": null,
   "id": "48230f11",
   "metadata": {},
   "outputs": [],
   "source": []
  },
  {
   "cell_type": "markdown",
   "id": "7676464b",
   "metadata": {},
   "source": [
    "### Q5. A survey was conducted to examine the relationship between age and preference for a particular brand of soft drink. The survey results are shown below:"
   ]
  },
  {
   "cell_type": "code",
   "execution_count": 18,
   "id": "7acca993",
   "metadata": {},
   "outputs": [
    {
     "data": {
      "text/html": [
       "<div>\n",
       "<style scoped>\n",
       "    .dataframe tbody tr th:only-of-type {\n",
       "        vertical-align: middle;\n",
       "    }\n",
       "\n",
       "    .dataframe tbody tr th {\n",
       "        vertical-align: top;\n",
       "    }\n",
       "\n",
       "    .dataframe thead th {\n",
       "        text-align: right;\n",
       "    }\n",
       "</style>\n",
       "<table border=\"1\" class=\"dataframe\">\n",
       "  <thead>\n",
       "    <tr style=\"text-align: right;\">\n",
       "      <th></th>\n",
       "      <th>Age</th>\n",
       "      <th>Soft Drink Preference</th>\n",
       "    </tr>\n",
       "  </thead>\n",
       "  <tbody>\n",
       "    <tr>\n",
       "      <th>0</th>\n",
       "      <td>25</td>\n",
       "      <td>Coke</td>\n",
       "    </tr>\n",
       "    <tr>\n",
       "      <th>1</th>\n",
       "      <td>42</td>\n",
       "      <td>Pepsi</td>\n",
       "    </tr>\n",
       "    <tr>\n",
       "      <th>2</th>\n",
       "      <td>37</td>\n",
       "      <td>Mountain Dew</td>\n",
       "    </tr>\n",
       "    <tr>\n",
       "      <th>3</th>\n",
       "      <td>19</td>\n",
       "      <td>Coke</td>\n",
       "    </tr>\n",
       "    <tr>\n",
       "      <th>4</th>\n",
       "      <td>31</td>\n",
       "      <td>Pepsi</td>\n",
       "    </tr>\n",
       "    <tr>\n",
       "      <th>5</th>\n",
       "      <td>28</td>\n",
       "      <td>Coke</td>\n",
       "    </tr>\n",
       "  </tbody>\n",
       "</table>\n",
       "</div>"
      ],
      "text/plain": [
       "   Age Soft Drink Preference\n",
       "0   25                  Coke\n",
       "1   42                 Pepsi\n",
       "2   37          Mountain Dew\n",
       "3   19                  Coke\n",
       "4   31                 Pepsi\n",
       "5   28                  Coke"
      ]
     },
     "execution_count": 18,
     "metadata": {},
     "output_type": "execute_result"
    }
   ],
   "source": [
    "df=pd.DataFrame({\n",
    "    'Age':[25,42,37,19,31,28],\n",
    "    'Soft Drink Preference':['Coke','Pepsi','Mountain Dew','Coke','Pepsi','Coke']\n",
    "})\n",
    "df"
   ]
  },
  {
   "cell_type": "code",
   "execution_count": 31,
   "id": "c6757dac",
   "metadata": {},
   "outputs": [],
   "source": [
    "a=df.corr(method='spearman').iloc[0,1]"
   ]
  },
  {
   "cell_type": "code",
   "execution_count": 32,
   "id": "08fc9213",
   "metadata": {},
   "outputs": [
    {
     "name": "stdout",
     "output_type": "stream",
     "text": [
      "Spearman Corrleation Coefficient: 0.14237695078031212\n"
     ]
    }
   ],
   "source": [
    "print(\"Spearman Corrleation Coefficient:\",a)"
   ]
  },
  {
   "cell_type": "code",
   "execution_count": null,
   "id": "89cbad40",
   "metadata": {},
   "outputs": [],
   "source": []
  },
  {
   "cell_type": "markdown",
   "id": "7d5894cc",
   "metadata": {},
   "source": [
    "### Q6. A company is interested in examining the relationship between the number of sales calls made per day and the number of sales made per week. The company collected data on both variables from a sample o  sales representatives. Calculate the Pearson correlation coefficient between these two variables."
   ]
  },
  {
   "cell_type": "code",
   "execution_count": 33,
   "id": "4762edf0",
   "metadata": {},
   "outputs": [],
   "source": [
    "import pandas as pd\n",
    "import numpy as np\n",
    "\n",
    "# Generate sample data for sales calls and sales made\n",
    "np.random.seed(42)\n",
    "sales_calls = np.random.normal(50, 10, 30)\n",
    "sales_made = np.random.normal(10, 2, 30)\n",
    "\n",
    "# Create a pandas DataFrame from the two arrays\n",
    "df = pd.DataFrame({'Sales Calls': sales_calls, 'Sales Made': sales_made})"
   ]
  },
  {
   "cell_type": "code",
   "execution_count": 34,
   "id": "396ea67c",
   "metadata": {},
   "outputs": [
    {
     "data": {
      "text/html": [
       "<div>\n",
       "<style scoped>\n",
       "    .dataframe tbody tr th:only-of-type {\n",
       "        vertical-align: middle;\n",
       "    }\n",
       "\n",
       "    .dataframe tbody tr th {\n",
       "        vertical-align: top;\n",
       "    }\n",
       "\n",
       "    .dataframe thead th {\n",
       "        text-align: right;\n",
       "    }\n",
       "</style>\n",
       "<table border=\"1\" class=\"dataframe\">\n",
       "  <thead>\n",
       "    <tr style=\"text-align: right;\">\n",
       "      <th></th>\n",
       "      <th>Sales Calls</th>\n",
       "      <th>Sales Made</th>\n",
       "    </tr>\n",
       "  </thead>\n",
       "  <tbody>\n",
       "    <tr>\n",
       "      <th>Sales Calls</th>\n",
       "      <td>1.000000</td>\n",
       "      <td>0.098834</td>\n",
       "    </tr>\n",
       "    <tr>\n",
       "      <th>Sales Made</th>\n",
       "      <td>0.098834</td>\n",
       "      <td>1.000000</td>\n",
       "    </tr>\n",
       "  </tbody>\n",
       "</table>\n",
       "</div>"
      ],
      "text/plain": [
       "             Sales Calls  Sales Made\n",
       "Sales Calls     1.000000    0.098834\n",
       "Sales Made      0.098834    1.000000"
      ]
     },
     "execution_count": 34,
     "metadata": {},
     "output_type": "execute_result"
    }
   ],
   "source": [
    "df.corr(method='pearson')"
   ]
  },
  {
   "cell_type": "code",
   "execution_count": 36,
   "id": "29bc65a1",
   "metadata": {},
   "outputs": [
    {
     "name": "stdout",
     "output_type": "stream",
     "text": [
      "Pearson correlation coefficient: 0.09883379170949537\n"
     ]
    }
   ],
   "source": [
    "print(\"Pearson correlation coefficient:\",df.corr(method='pearson').iloc[0,1])"
   ]
  },
  {
   "cell_type": "code",
   "execution_count": null,
   "id": "a290c0cb",
   "metadata": {},
   "outputs": [],
   "source": []
  }
 ],
 "metadata": {
  "kernelspec": {
   "display_name": "Python 3 (ipykernel)",
   "language": "python",
   "name": "python3"
  },
  "language_info": {
   "codemirror_mode": {
    "name": "ipython",
    "version": 3
   },
   "file_extension": ".py",
   "mimetype": "text/x-python",
   "name": "python",
   "nbconvert_exporter": "python",
   "pygments_lexer": "ipython3",
   "version": "3.9.7"
  }
 },
 "nbformat": 4,
 "nbformat_minor": 5
}
